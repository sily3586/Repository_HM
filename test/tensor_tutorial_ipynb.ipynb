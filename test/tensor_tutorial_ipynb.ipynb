{
  "nbformat": 4,
  "nbformat_minor": 0,
  "metadata": {
    "kernelspec": {
      "name": "python3",
      "display_name": "Python 3"
    },
    "language_info": {
      "codemirror_mode": {
        "name": "ipython",
        "version": 3
      },
      "file_extension": ".py",
      "mimetype": "text/x-python",
      "name": "python",
      "nbconvert_exporter": "python",
      "pygments_lexer": "ipython3",
      "version": "3.6.6"
    },
    "colab": {
      "name": "tensor_tutorial.ipynb의 사본",
      "provenance": [],
      "include_colab_link": true
    },
    "accelerator": "GPU"
  },
  "cells": [
    {
      "cell_type": "markdown",
      "metadata": {
        "id": "view-in-github",
        "colab_type": "text"
      },
      "source": [
        "<a href=\"https://colab.research.google.com/github/sily3586/Repository_HM/blob/master/test/tensor_tutorial_ipynb.ipynb\" target=\"_parent\"><img src=\"https://colab.research.google.com/assets/colab-badge.svg\" alt=\"Open In Colab\"/></a>"
      ]
    },
    {
      "cell_type": "code",
      "metadata": {
        "id": "usO7ZkTsIczg",
        "colab_type": "code",
        "colab": {}
      },
      "source": [
        "%matplotlib inline "
      ],
      "execution_count": 0,
      "outputs": []
    },
    {
      "cell_type": "code",
      "metadata": {
        "id": "Ecxj0C4rIczj",
        "colab_type": "code",
        "colab": {}
      },
      "source": [
        "from __future__ import print_function #future모듈에서 print함수를 가져옴 -> python2의 print와 python3의 print를 맞춰주는 과정.\n",
        "import torch #torch모듈을 전부 가져옴."
      ],
      "execution_count": 0,
      "outputs": []
    },
    {
      "cell_type": "code",
      "metadata": {
        "id": "L8GLTFjhIczm",
        "colab_type": "code",
        "colab": {
          "base_uri": "https://localhost:8080/",
          "height": 105
        },
        "outputId": "7a2dd13e-0247-4e83-9bd3-f8a1a0c3ff2e"
      },
      "source": [
        "x = torch.empty(5, 3) #초기화되지 않은 5x3행렬 x를 생성.\n",
        "print(x)"
      ],
      "execution_count": 3,
      "outputs": [
        {
          "output_type": "stream",
          "text": [
            "tensor([[2.6311e-36, 0.0000e+00, 3.3631e-44],\n",
            "        [0.0000e+00,        nan, 2.1974e+23],\n",
            "        [1.1578e+27, 1.1362e+30, 7.1547e+22],\n",
            "        [4.5828e+30, 1.2121e+04, 7.1846e+22],\n",
            "        [9.2198e-39, 7.0374e+22, 6.9774e+22]])\n"
          ],
          "name": "stdout"
        }
      ]
    },
    {
      "cell_type": "code",
      "metadata": {
        "id": "nb4-fSbNIczp",
        "colab_type": "code",
        "colab": {
          "base_uri": "https://localhost:8080/",
          "height": 105
        },
        "outputId": "6f5e68a8-bd35-43e6-a162-30af33a16606"
      },
      "source": [
        "x = torch.rand(5, 3) #0과 1사이의 값으로 랜덤하게 초기화된 5x3행렬 x를 생성.\n",
        "print(x)"
      ],
      "execution_count": 4,
      "outputs": [
        {
          "output_type": "stream",
          "text": [
            "tensor([[0.1034, 0.4927, 0.4762],\n",
            "        [0.1219, 0.9637, 0.2639],\n",
            "        [0.9098, 0.6662, 0.9633],\n",
            "        [0.8439, 0.7127, 0.9551],\n",
            "        [0.1978, 0.7004, 0.2729]])\n"
          ],
          "name": "stdout"
        }
      ]
    },
    {
      "cell_type": "code",
      "metadata": {
        "id": "UYbTufySIczr",
        "colab_type": "code",
        "colab": {
          "base_uri": "https://localhost:8080/",
          "height": 105
        },
        "outputId": "d0684bc4-e41e-4790-e5dd-6d3f8ddbbde2"
      },
      "source": [
        "x = torch.zeros(5, 3, dtype=torch.long) #torch.long 데이터 타입을 가지며 0으로 채워진 5x3행렬 x를 생성.\n",
        "print(x)"
      ],
      "execution_count": 5,
      "outputs": [
        {
          "output_type": "stream",
          "text": [
            "tensor([[0, 0, 0],\n",
            "        [0, 0, 0],\n",
            "        [0, 0, 0],\n",
            "        [0, 0, 0],\n",
            "        [0, 0, 0]])\n"
          ],
          "name": "stdout"
        }
      ]
    },
    {
      "cell_type": "code",
      "metadata": {
        "id": "hDCzSArqIczt",
        "colab_type": "code",
        "colab": {
          "base_uri": "https://localhost:8080/",
          "height": 34
        },
        "outputId": "e9db40c1-de7a-477e-8534-e81c8b35156b"
      },
      "source": [
        "x = torch.tensor([5.5, 3]) #지정된 데이터로부터 직접 텐서를 생성.\n",
        "print(x)"
      ],
      "execution_count": 6,
      "outputs": [
        {
          "output_type": "stream",
          "text": [
            "tensor([5.5000, 3.0000])\n"
          ],
          "name": "stdout"
        }
      ]
    },
    {
      "cell_type": "code",
      "metadata": {
        "id": "WuJ2BZuAIczv",
        "colab_type": "code",
        "colab": {
          "base_uri": "https://localhost:8080/",
          "height": 193
        },
        "outputId": "da4e690f-18c3-4b91-dbba-af9f6a48a8fd"
      },
      "source": [
        "#혹은 기존의 텐서를 기반으로 같은 구조를 가진 텐서 생성. 이 방법은 사용자에 의해 새로운 값이 주어지지 않으면 입력 텐서의 속성(e.g. 데이터타입) 등이 재사용 됨.\n",
        "x = x.new_ones(5, 3, dtype=torch.double)      # new_ones를 통해 5x3행렬이며 값이 1로 채워진 텐서를 torch.double 타입으로 생성\n",
        "print(x)\n",
        "\n",
        "x = torch.randn_like(x, dtype=torch.float)    #torch.randn_like() 함수를 통해 0과 1사이의 랜덤한 값으로 채워지며 x와 같은 크기인 5x3 크기의 텐서를 구성하되 데이터 타입은 torch.float으로 한 행렬 생성\n",
        "print(x)"
      ],
      "execution_count": 7,
      "outputs": [
        {
          "output_type": "stream",
          "text": [
            "tensor([[1., 1., 1.],\n",
            "        [1., 1., 1.],\n",
            "        [1., 1., 1.],\n",
            "        [1., 1., 1.],\n",
            "        [1., 1., 1.]], dtype=torch.float64)\n",
            "tensor([[ 1.2175,  2.6860,  0.1637],\n",
            "        [ 0.6697, -1.1266,  0.1889],\n",
            "        [ 1.6147, -2.3636,  0.6136],\n",
            "        [ 1.3629, -0.5042,  0.1857],\n",
            "        [ 0.7782,  0.7399, -0.8643]])\n"
          ],
          "name": "stdout"
        }
      ]
    },
    {
      "cell_type": "code",
      "metadata": {
        "id": "h5DTEUnsIczx",
        "colab_type": "code",
        "colab": {
          "base_uri": "https://localhost:8080/",
          "height": 34
        },
        "outputId": "98e7a313-34e0-49e3-d691-a21d8d897291"
      },
      "source": [
        "print(x.size())#생성한 텐서의 사이즈를 확인"
      ],
      "execution_count": 8,
      "outputs": [
        {
          "output_type": "stream",
          "text": [
            "torch.Size([5, 3])\n"
          ],
          "name": "stdout"
        }
      ]
    },
    {
      "cell_type": "code",
      "metadata": {
        "id": "AMskRUn4Iczy",
        "colab_type": "code",
        "colab": {
          "base_uri": "https://localhost:8080/",
          "height": 105
        },
        "outputId": "79dc9fd6-c155-4941-db04-435b31ca0ba7"
      },
      "source": [
        "#텐서의 연산\n",
        "#방법1\n",
        "y = torch.rand(5, 3) #0과 1사이의 랜덤한 값으로 채워진 5x3행렬 y 생성\n",
        "print(x + y) #텐서 x와 y를 +연산."
      ],
      "execution_count": 9,
      "outputs": [
        {
          "output_type": "stream",
          "text": [
            "tensor([[ 1.5285,  3.1756,  0.5804],\n",
            "        [ 1.5869, -0.5682,  0.4341],\n",
            "        [ 2.4586, -2.1497,  1.0155],\n",
            "        [ 2.0233,  0.0298,  0.6318],\n",
            "        [ 0.9538,  1.2841,  0.0337]])\n"
          ],
          "name": "stdout"
        }
      ]
    },
    {
      "cell_type": "code",
      "metadata": {
        "id": "pX-hB9pfIcz0",
        "colab_type": "code",
        "colab": {
          "base_uri": "https://localhost:8080/",
          "height": 105
        },
        "outputId": "2ebbf7e2-c7ea-4dc0-8aff-eb42892d5db4"
      },
      "source": [
        "#방법2\n",
        "print(torch.add(x, y)) #torch.add()함수를 사용하여 텐서의 +연산."
      ],
      "execution_count": 10,
      "outputs": [
        {
          "output_type": "stream",
          "text": [
            "tensor([[ 1.5285,  3.1756,  0.5804],\n",
            "        [ 1.5869, -0.5682,  0.4341],\n",
            "        [ 2.4586, -2.1497,  1.0155],\n",
            "        [ 2.0233,  0.0298,  0.6318],\n",
            "        [ 0.9538,  1.2841,  0.0337]])\n"
          ],
          "name": "stdout"
        }
      ]
    },
    {
      "cell_type": "code",
      "metadata": {
        "id": "mrLDFfRdIcz4",
        "colab_type": "code",
        "colab": {
          "base_uri": "https://localhost:8080/",
          "height": 105
        },
        "outputId": "d7d22d34-c5b6-45b1-8f17-3758b2ea57b5"
      },
      "source": [
        "#방법3 : 파라미터로 결과가 저장되는 output tensor 이용\n",
        "result = torch.empty(5, 3) #torch.empty()를 사용하여 5x3의 초기화되지 않은 값이 채워진 tensor를 생성\n",
        "torch.add(x, y, out=result) #torch.add()함수를 사용하여 x, y를 더하되 매개변수 out에 result를 넘겨주어 출력값을 result에 대입.\n",
        "print(result) #result를 출력"
      ],
      "execution_count": 11,
      "outputs": [
        {
          "output_type": "stream",
          "text": [
            "tensor([[ 1.5285,  3.1756,  0.5804],\n",
            "        [ 1.5869, -0.5682,  0.4341],\n",
            "        [ 2.4586, -2.1497,  1.0155],\n",
            "        [ 2.0233,  0.0298,  0.6318],\n",
            "        [ 0.9538,  1.2841,  0.0337]])\n"
          ],
          "name": "stdout"
        }
      ]
    },
    {
      "cell_type": "code",
      "metadata": {
        "id": "0SI8w8iIIcz7",
        "colab_type": "code",
        "colab": {
          "base_uri": "https://localhost:8080/",
          "height": 105
        },
        "outputId": "7b598fa9-041a-49f9-bf2d-11d3f1b8c473"
      },
      "source": [
        "#방법4 : 제자리 연산\n",
        "y.add_(x) #y에 x를 더하여 y저장\n",
        "print(y)\n",
        "#텐서를 제자리에서 변경하는 연산은 postfix(연산자를 피연산자 뒤쪽에 표시)로 표기.\n",
        "#예를 들어 x.copy_(y)와 x.t_()는 x를 변경"
      ],
      "execution_count": 12,
      "outputs": [
        {
          "output_type": "stream",
          "text": [
            "tensor([[ 1.5285,  3.1756,  0.5804],\n",
            "        [ 1.5869, -0.5682,  0.4341],\n",
            "        [ 2.4586, -2.1497,  1.0155],\n",
            "        [ 2.0233,  0.0298,  0.6318],\n",
            "        [ 0.9538,  1.2841,  0.0337]])\n"
          ],
          "name": "stdout"
        }
      ]
    },
    {
      "cell_type": "code",
      "metadata": {
        "id": "WVGBPnA-Icz9",
        "colab_type": "code",
        "colab": {
          "base_uri": "https://localhost:8080/",
          "height": 34
        },
        "outputId": "af18868c-ac68-410f-b8d6-eb3f8a657874"
      },
      "source": [
        "#NumPy와 같은 표준 인덱싱을 사용할 수 있음.\n",
        "print(x[1:3, 0]) #텐서 x의 두번째 열의 두번째 행과 세번째 행 출력."
      ],
      "execution_count": 13,
      "outputs": [
        {
          "output_type": "stream",
          "text": [
            "tensor([0.6697, 1.6147])\n"
          ],
          "name": "stdout"
        }
      ]
    },
    {
      "cell_type": "code",
      "metadata": {
        "id": "7DmEA9xQIcz_",
        "colab_type": "code",
        "colab": {
          "base_uri": "https://localhost:8080/",
          "height": 34
        },
        "outputId": "6eae0701-d38c-4420-b39e-af088b984ac8"
      },
      "source": [
        "#텐서의 size나 shape을 바꾸려면 torch.view를 사용\n",
        "x = torch.randn(4, 4) #4x4의 랜덤한 행렬 생성.\n",
        "y = x.view(16) #tensor x의 크기를 16으로 변환한 값을 y에 저장\n",
        "z = x.view(-1, 8)  #tensor x의 크기를 -1x8로 변환하여 z에 저장. 이때 '-1'의 의미는 현재 값을 다른 값에 의해 계산하겠다는 의미.\n",
        "print(x.size(), y.size(), z.size())"
      ],
      "execution_count": 14,
      "outputs": [
        {
          "output_type": "stream",
          "text": [
            "torch.Size([4, 4]) torch.Size([16]) torch.Size([2, 8])\n"
          ],
          "name": "stdout"
        }
      ]
    },
    {
      "cell_type": "code",
      "metadata": {
        "id": "LPnp7FpUIc0B",
        "colab_type": "code",
        "colab": {
          "base_uri": "https://localhost:8080/",
          "height": 52
        },
        "outputId": "190be8e4-01d8-4648-c921-a8feab17cf81"
      },
      "source": [
        "#한개의 요소를 가지는 텐서가 있다면, item()함수를 사용하여 python에서의 숫자 데이터처럼 값을 얻을 수 있음.\n",
        "x = torch.randn(1)\n",
        "print(x)\n",
        "print(x.item()) #tensor x의 요소를 python에서 처럼 출력"
      ],
      "execution_count": 15,
      "outputs": [
        {
          "output_type": "stream",
          "text": [
            "tensor([1.7961])\n",
            "1.7960928678512573\n"
          ],
          "name": "stdout"
        }
      ]
    },
    {
      "cell_type": "code",
      "metadata": {
        "id": "sYAaqiYbIc0D",
        "colab_type": "code",
        "colab": {
          "base_uri": "https://localhost:8080/",
          "height": 34
        },
        "outputId": "71d6896f-3441-4bab-cf69-f76f9064336d"
      },
      "source": [
        "#NumPy Bridge(NumPy 변환)\n",
        "#torch tensor에서 numpy 배열 또는 그 반대로 변환하는 것은 어렵지 않음.\n",
        "#둘은 근본적으로 메모리 위치를 공유하기 때문에 하나를 변경하면 다른 하나도 변경됨.\n",
        "\n",
        "#torch tensor를 NumPy배열로 변경하기\n",
        "a = torch.ones(5) #torch.ones()를 사용하여 크기가 5이며 값이 1인 tensor a를 생성\n",
        "print(a)"
      ],
      "execution_count": 16,
      "outputs": [
        {
          "output_type": "stream",
          "text": [
            "tensor([1., 1., 1., 1., 1.])\n"
          ],
          "name": "stdout"
        }
      ]
    },
    {
      "cell_type": "code",
      "metadata": {
        "id": "GXAN0qCTIc0H",
        "colab_type": "code",
        "colab": {
          "base_uri": "https://localhost:8080/",
          "height": 34
        },
        "outputId": "5eb0b597-f482-4895-c9af-a9867636db42"
      },
      "source": [
        "b = a.numpy() #a를 numpy로 변환하여 b에 저장\n",
        "print(b)"
      ],
      "execution_count": 17,
      "outputs": [
        {
          "output_type": "stream",
          "text": [
            "[1. 1. 1. 1. 1.]\n"
          ],
          "name": "stdout"
        }
      ]
    },
    {
      "cell_type": "code",
      "metadata": {
        "id": "LRzvvtvYIc0M",
        "colab_type": "code",
        "colab": {
          "base_uri": "https://localhost:8080/",
          "height": 52
        },
        "outputId": "e2ffd8ef-b841-413a-9acb-00a50c2a591d"
      },
      "source": [
        "#numpy배열의 값이 변하는 과정\n",
        "a.add_(1) #add_() 함수를 사용하여 a에 1을 더하여 a에 저장\n",
        "print(a) #a를 출력\n",
        "print(b) #b를 출력. NumPy Bridge로 인해 numpy b 의 값이 바뀐 것을 확인"
      ],
      "execution_count": 18,
      "outputs": [
        {
          "output_type": "stream",
          "text": [
            "tensor([2., 2., 2., 2., 2.])\n",
            "[2. 2. 2. 2. 2.]\n"
          ],
          "name": "stdout"
        }
      ]
    },
    {
      "cell_type": "code",
      "metadata": {
        "id": "KFq8emdsIc0O",
        "colab_type": "code",
        "colab": {
          "base_uri": "https://localhost:8080/",
          "height": 52
        },
        "outputId": "e21ea511-0288-47d8-96ae-55107bbc01b5"
      },
      "source": [
        "#NumPy배열을 torch tensor로 변경하기\n",
        "#Numpy배열이 torch tensor로 자동으로 바뀌는 과정\n",
        "import numpy as np #numpy를 np로 import\n",
        "a = np.ones(5) #numpy 타입의 사이즈가 5, 값이 1인 배열을 생성\n",
        "b = torch.from_numpy(a) #torch.from_numpy() 함수를 통해 이 numpy 타입의 배열 a를 tensor로 읽어들여 b에 저장\n",
        "np.add(a, 1, out=a) #np.add() 함수를 통해 a에 1를 더하고 out 매개변수에 a를 넘겨줌으로써 출력값을 a에 저장\n",
        "print(a) #a를 출력\n",
        "print(b) #b를 출력"
      ],
      "execution_count": 19,
      "outputs": [
        {
          "output_type": "stream",
          "text": [
            "[2. 2. 2. 2. 2.]\n",
            "tensor([2., 2., 2., 2., 2.], dtype=torch.float64)\n"
          ],
          "name": "stdout"
        }
      ]
    },
    {
      "cell_type": "code",
      "metadata": {
        "id": "_DYcnO-MIc0Q",
        "colab_type": "code",
        "colab": {
          "base_uri": "https://localhost:8080/",
          "height": 52
        },
        "outputId": "b1974141-68c0-4859-a9b0-c5c460c7f122"
      },
      "source": [
        "#tensor는 .to 메서드를 사용하여 cuda를 지원하는 디바이스로 옮길 수 있음.\n",
        "# 이 셀이 쿠다를 지원하는 경우에만 실행되도록 함.\n",
        "# GPU의 안팎으로 tensor를 이동하기 위해 torch.device 객체를 사용\n",
        "if torch.cuda.is_available(): #cuda를 지원한다면\n",
        "    device = torch.device(\"cuda\")          \n",
        "    y = torch.ones_like(x, device=device)  #GPU에 직접 텐서 생성\n",
        "    x = x.to(device)                       #또는 ``.to(\"cuda\")``사용\n",
        "    z = x + y\n",
        "    print(z)\n",
        "    print(z.to(\"cpu\", torch.double))       # ``.to`` 는 데이터 타입도 바꿀 수 있음."
      ],
      "execution_count": 20,
      "outputs": [
        {
          "output_type": "stream",
          "text": [
            "tensor([2.7961], device='cuda:0')\n",
            "tensor([2.7961], dtype=torch.float64)\n"
          ],
          "name": "stdout"
        }
      ]
    }
  ]
}